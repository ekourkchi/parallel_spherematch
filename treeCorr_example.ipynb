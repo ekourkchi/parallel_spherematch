{
 "cells": [
  {
   "cell_type": "code",
   "execution_count": 60,
   "metadata": {},
   "outputs": [],
   "source": [
    "import treecorr\n",
    "import numpy as np\n",
    "import matplotlib.pylab as plt"
   ]
  },
  {
   "cell_type": "code",
   "execution_count": 71,
   "metadata": {},
   "outputs": [],
   "source": [
    "config = {\n",
    "    \n",
    "    'nbins': 10,         # numbner of bins in logarithmic space\n",
    "    'min_sep': 1,        # min separation [deg]\n",
    "    'max_sep': 10,       # max separation [deg]\n",
    "    'sep_units': 'deg'\n",
    "}\n",
    "\n",
    "\n",
    "# defining the model\n",
    "nn = treecorr.NNCorrelation(config)\n",
    "\n",
    "\n",
    "N = 1000000\n",
    "\n",
    "dec = np.random.uniform(-90,90,N)\n",
    "ra  = np.random.uniform(0,360,N)\n",
    "cat1 = treecorr.Catalog(ra=ra, dec=dec, ra_units='deg', dec_units='deg')\n",
    "\n",
    "\n",
    "dec = np.random.uniform(-90,90,N)\n",
    "ra  = np.random.uniform(0,360,N)\n",
    "cat2 = treecorr.Catalog(ra=ra, dec=dec, ra_units='deg', dec_units='deg')\n"
   ]
  },
  {
   "cell_type": "code",
   "execution_count": 72,
   "metadata": {},
   "outputs": [
    {
     "data": {
      "text/plain": [
       "[<matplotlib.lines.Line2D at 0x7f07d9cd9a90>]"
      ]
     },
     "execution_count": 72,
     "metadata": {},
     "output_type": "execute_result"
    },
    {
     "data": {
      "image/png": "[encoded data removed]",
      "text/plain": [
       "<Figure size 432x288 with 1 Axes>"
      ]
     },
     "metadata": {
      "needs_background": "light"
     },
     "output_type": "display_data"
    }
   ],
   "source": [
    "nn.process(cat1)\n",
    "plt.plot(np.exp(nn.logr), nn.npairs, '.')"
   ]
  },
  {
   "cell_type": "code",
   "execution_count": 69,
   "metadata": {},
   "outputs": [
    {
     "data": {
      "text/plain": [
       "[<matplotlib.lines.Line2D at 0x7f07d9d8b8d0>]"
      ]
     },
     "execution_count": 69,
     "metadata": {},
     "output_type": "execute_result"
    },
    {
     "data": {
      "image/png": "[encoded data removed]",
      "text/plain": [
       "<Figure size 432x288 with 1 Axes>"
      ]
     },
     "metadata": {
      "needs_background": "light"
     },
     "output_type": "display_data"
    }
   ],
   "source": [
    "nn.process(cat1, cat2)\n",
    "plt.plot(np.exp(nn.logr), nn.npairs)"
   ]
  },
  {
   "cell_type": "code",
   "execution_count": null,
   "metadata": {},
   "outputs": [],
   "source": []
  }
 ],
 "metadata": {
  "kernelspec": {
   "display_name": "Python 2",
   "language": "python",
   "name": "python2"
  },
  "language_info": {
   "codemirror_mode": {
    "name": "ipython",
    "version": 2
   },
   "file_extension": ".py",
   "mimetype": "text/x-python",
   "name": "python",
   "nbconvert_exporter": "python",
   "pygments_lexer": "ipython2",
   "version": "2.7.15"
  }
 },
 "nbformat": 4,
 "nbformat_minor": 2
}
