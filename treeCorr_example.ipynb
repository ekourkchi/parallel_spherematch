{
 "cells": [
  {
   "cell_type": "code",
   "execution_count": 1,
   "metadata": {},
   "outputs": [],
   "source": [
    "import treecorr\n",
    "import numpy as np\n",
    "import matplotlib.pylab as plt"
   ]
  },
  {
   "cell_type": "code",
   "execution_count": 13,
   "metadata": {},
   "outputs": [
    {
     "name": "stdout",
     "output_type": "stream",
     "text": [
      "1000 1000\n"
     ]
    }
   ],
   "source": [
    "config = {\n",
    "    \n",
    "    'nbins': 20,         # numbner of bins in logarithmic space\n",
    "    'min_sep': 10,       # min separation [deg]\n",
    "    'max_sep': 100,    # max separation [deg]\n",
    "    'sep_units': 'deg'\n",
    "}\n",
    "\n",
    "\n",
    "# defining the model\n",
    "nn = treecorr.NNCorrelation(config)\n",
    "\n",
    "\n",
    "N = 1000\n",
    "\n",
    "dec = np.random.uniform(0,90,N)\n",
    "ra  = np.random.uniform(0,90,N)\n",
    "cat1 = treecorr.Catalog(ra=ra, dec=dec, ra_units='deg', dec_units='deg')\n",
    "\n",
    "\n",
    "print len(ra), len(dec)"
   ]
  },
  {
   "cell_type": "code",
   "execution_count": 14,
   "metadata": {},
   "outputs": [
    {
     "data": {
      "text/plain": [
       "[<matplotlib.lines.Line2D at 0x7f16a967a910>]"
      ]
     },
     "execution_count": 14,
     "metadata": {},
     "output_type": "execute_result"
    },
    {
     "data": {
      "image/png": "[encoded data removed]",
      "text/plain": [
       "<Figure size 432x288 with 1 Axes>"
      ]
     },
     "metadata": {
      "needs_background": "light"
     },
     "output_type": "display_data"
    }
   ],
   "source": [
    "nn.process(cat1, metric='Arc')\n",
    "plt.plot(nn.rnom, nn.npairs, '.')\n",
    "\n"
   ]
  },
  {
   "cell_type": "code",
   "execution_count": 15,
   "metadata": {},
   "outputs": [
    {
     "name": "stdout",
     "output_type": "stream",
     "text": [
      "[10.59253725 11.88502227 13.33521432 14.96235656 16.78804018 18.83649089\n",
      " 21.1348904  23.71373706 26.6072506  29.85382619 33.49654392 37.58374043\n",
      " 42.16965034 47.3151259  53.08844442 59.56621435 66.83439176 74.98942093\n",
      " 84.13951416 94.40608763]\n",
      "[10.61792831 11.90592155 13.36815663 14.99559098 16.82336866 18.89185348\n",
      " 21.18146243 23.75977664 26.64297138 29.91065122 33.5586268  37.63722609\n",
      " 42.20840775 47.33992249 53.10239419 59.56473987 66.73932091 74.69191076\n",
      " 82.95105236 89.36803639]\n",
      "[ 7004.  8363. 10222. 11777. 13913. 16260. 19055. 22259. 25740. 29091.\n",
      " 32962. 36562. 38973. 40719. 40544. 38988. 34714. 25200. 11531.    47.]\n",
      "[ 7004.  8363. 10222. 11777. 13913. 16260. 19055. 22259. 25740. 29091.\n",
      " 32962. 36562. 38973. 40719. 40544. 38988. 34714. 25200. 11531.    47.]\n"
     ]
    }
   ],
   "source": [
    "print nn.rnom\n",
    "print nn.meanr\n",
    "print nn.weight\n",
    "print nn.npairs"
   ]
  },
  {
   "cell_type": "code",
   "execution_count": 17,
   "metadata": {},
   "outputs": [
    {
     "data": {
      "text/plain": [
       "[<matplotlib.lines.Line2D at 0x7f16a95e29d0>]"
      ]
     },
     "execution_count": 17,
     "metadata": {},
     "output_type": "execute_result"
    },
    {
     "data": {
      "image/png": "[encoded data removed]",
      "text/plain": [
       "<Figure size 432x288 with 1 Axes>"
      ]
     },
     "metadata": {
      "needs_background": "light"
     },
     "output_type": "display_data"
    }
   ],
   "source": [
    "dec = np.random.uniform(0,90,N)\n",
    "ra  = np.random.uniform(0,90,N)\n",
    "cat2 = treecorr.Catalog(ra=ra, dec=dec, ra_units='deg', dec_units='deg')\n",
    "\n",
    "\n",
    "nn.process(cat1, cat2, metric='Arc')\n",
    "plt.plot(np.exp(nn.logr), nn.npairs)"
   ]
  },
  {
   "cell_type": "code",
   "execution_count": 18,
   "metadata": {},
   "outputs": [
    {
     "name": "stdout",
     "output_type": "stream",
     "text": [
      "[10.59253725 11.88502227 13.33521432 14.96235656 16.78804018 18.83649089\n",
      " 21.1348904  23.71373706 26.6072506  29.85382619 33.49654392 37.58374043\n",
      " 42.16965034 47.3151259  53.08844442 59.56621435 66.83439176 74.98942093\n",
      " 84.13951416 94.40608763]\n",
      "[10.61675599 11.90635798 13.37578954 14.9972133  16.82342899 18.88288442\n",
      " 21.17671114 23.76430769 26.66345753 29.91717135 33.55146973 37.64375259\n",
      " 42.21800465 47.34353743 53.1041699  59.58070151 66.7314901  74.67262159\n",
      " 82.97136823 89.36656412]\n",
      "[14193. 17059. 20343. 23639. 27860. 32068. 37722. 42909. 49954. 57375.\n",
      " 65580. 73213. 80675. 82377. 81155. 77842. 71675. 51469. 22627.   112.]\n",
      "[14193. 17059. 20343. 23639. 27860. 32068. 37722. 42909. 49954. 57375.\n",
      " 65580. 73213. 80675. 82377. 81155. 77842. 71675. 51469. 22627.   112.]\n"
     ]
    }
   ],
   "source": [
    "print nn.rnom\n",
    "print nn.meanr\n",
    "print nn.weight\n",
    "print nn.npairs"
   ]
  },
  {
   "cell_type": "code",
   "execution_count": null,
   "metadata": {},
   "outputs": [],
   "source": []
  }
 ],
 "metadata": {
  "kernelspec": {
   "display_name": "Python 2",
   "language": "python",
   "name": "python2"
  },
  "language_info": {
   "codemirror_mode": {
    "name": "ipython",
    "version": 2
   },
   "file_extension": ".py",
   "mimetype": "text/x-python",
   "name": "python",
   "nbconvert_exporter": "python",
   "pygments_lexer": "ipython2",
   "version": "2.7.15"
  }
 },
 "nbformat": 4,
 "nbformat_minor": 2
}
